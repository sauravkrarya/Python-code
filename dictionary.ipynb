{
 "cells": [
  {
   "cell_type": "code",
   "execution_count": 1,
   "id": "c1a09cf5-6512-4de5-9943-8664d5f6c28d",
   "metadata": {},
   "outputs": [],
   "source": [
    "#dictionary(mutable)\n",
    "#dictionary is an unordred collection of key value pair eclosed with {}"
   ]
  },
  {
   "cell_type": "code",
   "execution_count": 3,
   "id": "424151b1-db19-4f7b-a6cc-15b247678c88",
   "metadata": {},
   "outputs": [
    {
     "data": {
      "text/plain": [
       "{1: 'anshu', 2: 'saurav', 3: 'shubham', 4: 'karmveer'}"
      ]
     },
     "execution_count": 3,
     "metadata": {},
     "output_type": "execute_result"
    }
   ],
   "source": [
    "d1={1:\"anshu\",2:\"saurav\",3:\"shubham\",4:\"karmveer\"}\n",
    "d1"
   ]
  },
  {
   "cell_type": "code",
   "execution_count": 6,
   "id": "506e64bb-6774-4094-a05f-b5c459d1488e",
   "metadata": {},
   "outputs": [
    {
     "data": {
      "text/plain": [
       "dict"
      ]
     },
     "execution_count": 6,
     "metadata": {},
     "output_type": "execute_result"
    }
   ],
   "source": [
    "type(d1)"
   ]
  },
  {
   "cell_type": "code",
   "execution_count": 8,
   "id": "022fc130-8d5e-47d1-9084-d95cfffe1250",
   "metadata": {},
   "outputs": [
    {
     "data": {
      "text/plain": [
       "dict_keys([1, 2, 3, 4])"
      ]
     },
     "execution_count": 8,
     "metadata": {},
     "output_type": "execute_result"
    }
   ],
   "source": [
    "d1.keys()"
   ]
  },
  {
   "cell_type": "code",
   "execution_count": 9,
   "id": "60d7ea7c-9f24-445f-9825-b21fa7c593f7",
   "metadata": {},
   "outputs": [
    {
     "data": {
      "text/plain": [
       "dict_values(['anshu', 'saurav', 'shubham', 'karmveer'])"
      ]
     },
     "execution_count": 9,
     "metadata": {},
     "output_type": "execute_result"
    }
   ],
   "source": [
    "d1.values()"
   ]
  },
  {
   "cell_type": "code",
   "execution_count": 10,
   "id": "a198eb56-a8ad-4e9c-940c-ed2647682936",
   "metadata": {},
   "outputs": [
    {
     "data": {
      "text/plain": [
       "'anshu'"
      ]
     },
     "execution_count": 10,
     "metadata": {},
     "output_type": "execute_result"
    }
   ],
   "source": [
    "d1[1]"
   ]
  },
  {
   "cell_type": "code",
   "execution_count": 11,
   "id": "155deae9-406d-4e72-95a4-12b51836ad81",
   "metadata": {},
   "outputs": [
    {
     "data": {
      "text/plain": [
       "'karmveer'"
      ]
     },
     "execution_count": 11,
     "metadata": {},
     "output_type": "execute_result"
    }
   ],
   "source": [
    "d1[4]"
   ]
  },
  {
   "cell_type": "code",
   "execution_count": 22,
   "id": "deac2281-a4c5-4781-857c-e556b9e1afdd",
   "metadata": {},
   "outputs": [
    {
     "data": {
      "text/plain": [
       "{6: 'ram', 7: 'shyam'}"
      ]
     },
     "execution_count": 22,
     "metadata": {},
     "output_type": "execute_result"
    }
   ],
   "source": [
    "d2={6:'ram',7:'shyam'}\n",
    "d2"
   ]
  },
  {
   "cell_type": "code",
   "execution_count": 25,
   "id": "bb03105a-7d15-4c04-ba83-c56f5562a3af",
   "metadata": {},
   "outputs": [
    {
     "data": {
      "text/plain": [
       "{1: 'anshu',\n",
       " 2: 'saurav',\n",
       " 3: 'shubham',\n",
       " 4: 'karmveer',\n",
       " 'asdf': 5,\n",
       " 6: 'ram',\n",
       " 7: 'shyam'}"
      ]
     },
     "execution_count": 25,
     "metadata": {},
     "output_type": "execute_result"
    }
   ],
   "source": [
    "d1.update(d2)\n",
    "d1"
   ]
  },
  {
   "cell_type": "code",
   "execution_count": 27,
   "id": "96c91bb1-78c1-4485-bdfc-9b1bcaf1b263",
   "metadata": {},
   "outputs": [
    {
     "data": {
      "text/plain": [
       "'anshu'"
      ]
     },
     "execution_count": 27,
     "metadata": {},
     "output_type": "execute_result"
    }
   ],
   "source": [
    "d1.pop(1)"
   ]
  },
  {
   "cell_type": "code",
   "execution_count": 28,
   "id": "b57343e5-4548-4c45-a426-0234a66fecb2",
   "metadata": {},
   "outputs": [
    {
     "data": {
      "text/plain": [
       "{2: 'saurav', 3: 'shubham', 4: 'karmveer', 'asdf': 5, 6: 'ram', 7: 'shyam'}"
      ]
     },
     "execution_count": 28,
     "metadata": {},
     "output_type": "execute_result"
    }
   ],
   "source": [
    "d1"
   ]
  },
  {
   "cell_type": "code",
   "execution_count": null,
   "id": "a4a7065e-7aa2-4b7e-871a-d6378051edbb",
   "metadata": {},
   "outputs": [],
   "source": []
  }
 ],
 "metadata": {
  "kernelspec": {
   "display_name": "Python 3 (ipykernel)",
   "language": "python",
   "name": "python3"
  },
  "language_info": {
   "codemirror_mode": {
    "name": "ipython",
    "version": 3
   },
   "file_extension": ".py",
   "mimetype": "text/x-python",
   "name": "python",
   "nbconvert_exporter": "python",
   "pygments_lexer": "ipython3",
   "version": "3.11.7"
  }
 },
 "nbformat": 4,
 "nbformat_minor": 5
}
