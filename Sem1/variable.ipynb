{
 "cells": [
  {
   "cell_type": "code",
   "execution_count": 1,
   "id": "366e72c7-d9ef-4641-9364-c8b99c30498b",
   "metadata": {},
   "outputs": [],
   "source": [
    "#variable\n",
    "#value can be store temporary  storage space called variable "
   ]
  },
  {
   "cell_type": "code",
   "execution_count": 3,
   "id": "d49afbca-89e0-4b1f-a8bb-15475d153e05",
   "metadata": {},
   "outputs": [],
   "source": [
    "student = \"saurav\""
   ]
  },
  {
   "cell_type": "code",
   "execution_count": 4,
   "id": "a8a33b89-7392-49b4-b345-d8e5ebef32ed",
   "metadata": {},
   "outputs": [
    {
     "data": {
      "text/plain": [
       "'saurav'"
      ]
     },
     "execution_count": 4,
     "metadata": {},
     "output_type": "execute_result"
    }
   ],
   "source": [
    "student"
   ]
  },
  {
   "cell_type": "code",
   "execution_count": 5,
   "id": "84dd9d82-4e4a-4d29-aed9-a5c1b6432b2e",
   "metadata": {},
   "outputs": [],
   "source": [
    "student =\"shubham\""
   ]
  },
  {
   "cell_type": "code",
   "execution_count": 6,
   "id": "b3a62306-216e-470f-9cf1-24c5971c9a50",
   "metadata": {},
   "outputs": [
    {
     "data": {
      "text/plain": [
       "'shubham'"
      ]
     },
     "execution_count": 6,
     "metadata": {},
     "output_type": "execute_result"
    }
   ],
   "source": [
    "student"
   ]
  },
  {
   "cell_type": "code",
   "execution_count": 11,
   "id": "b3a88030-1490-4c63-97cc-2010261cfaf5",
   "metadata": {},
   "outputs": [
    {
     "data": {
      "text/plain": [
       "'12'"
      ]
     },
     "execution_count": 11,
     "metadata": {},
     "output_type": "execute_result"
    }
   ],
   "source": [
    "a=\"12\"\n",
    "a"
   ]
  },
  {
   "cell_type": "code",
   "execution_count": 12,
   "id": "6774ecc2-991b-4802-8729-9caecb43fa43",
   "metadata": {},
   "outputs": [
    {
     "data": {
      "text/plain": [
       "1"
      ]
     },
     "execution_count": 12,
     "metadata": {},
     "output_type": "execute_result"
    }
   ],
   "source": [
    "a=1\n",
    "a"
   ]
  },
  {
   "cell_type": "code",
   "execution_count": null,
   "id": "353660b0-50c4-4395-843a-fd1eae681ca3",
   "metadata": {},
   "outputs": [],
   "source": [
    "abc=50\n",
    "abc"
   ]
  }
 ],
 "metadata": {
  "kernelspec": {
   "display_name": "Python 3 (ipykernel)",
   "language": "python",
   "name": "python3"
  },
  "language_info": {
   "codemirror_mode": {
    "name": "ipython",
    "version": 3
   },
   "file_extension": ".py",
   "mimetype": "text/x-python",
   "name": "python",
   "nbconvert_exporter": "python",
   "pygments_lexer": "ipython3",
   "version": "3.11.7"
  }
 },
 "nbformat": 4,
 "nbformat_minor": 5
}
