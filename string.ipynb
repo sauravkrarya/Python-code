{
 "cells": [
  {
   "cell_type": "code",
   "execution_count": 1,
   "id": "7d7b7670-a310-44d4-bb28-eba68a7aa51d",
   "metadata": {},
   "outputs": [],
   "source": [
    "#strings\n"
   ]
  },
  {
   "cell_type": "code",
   "execution_count": 2,
   "id": "4d30072e-d561-4787-90e3-b376cde10602",
   "metadata": {},
   "outputs": [
    {
     "data": {
      "text/plain": [
       "'my name is saurav kumar arya'"
      ]
     },
     "execution_count": 2,
     "metadata": {},
     "output_type": "execute_result"
    }
   ],
   "source": [
    "str1 = 'my name is saurav kumar arya'\n",
    "str1"
   ]
  },
  {
   "cell_type": "code",
   "execution_count": 4,
   "id": "4e2776c1-8521-43a8-bc68-d3fc9cf9207b",
   "metadata": {},
   "outputs": [
    {
     "data": {
      "text/plain": [
       "'saurav kumar arya'"
      ]
     },
     "execution_count": 4,
     "metadata": {},
     "output_type": "execute_result"
    }
   ],
   "source": [
    "s2=\"saurav kumar arya\"\n",
    "s2"
   ]
  },
  {
   "cell_type": "code",
   "execution_count": 15,
   "id": "7e11f8b4-c8f6-428d-b429-b624e0f3c15f",
   "metadata": {},
   "outputs": [
    {
     "data": {
      "text/plain": [
       "'\\nmy name \\nis\\nsaurav\\nkumar\\n arya\\n'"
      ]
     },
     "execution_count": 15,
     "metadata": {},
     "output_type": "execute_result"
    }
   ],
   "source": [
    "s3='''\n",
    "my name \n",
    "is\n",
    "saurav\n",
    "kumar\n",
    " arya\n",
    "'''\n",
    "s3"
   ]
  },
  {
   "cell_type": "code",
   "execution_count": 7,
   "id": "b5f98a2a-6548-4f26-9755-79baef414f1f",
   "metadata": {},
   "outputs": [
    {
     "data": {
      "text/plain": [
       "' '"
      ]
     },
     "execution_count": 7,
     "metadata": {},
     "output_type": "execute_result"
    }
   ],
   "source": [
    "str1[2]"
   ]
  },
  {
   "cell_type": "code",
   "execution_count": 8,
   "id": "61259ace-4ba9-49d9-9cbc-be0aa004549e",
   "metadata": {},
   "outputs": [
    {
     "data": {
      "text/plain": [
       "'a'"
      ]
     },
     "execution_count": 8,
     "metadata": {},
     "output_type": "execute_result"
    }
   ],
   "source": [
    "str1[4]"
   ]
  },
  {
   "cell_type": "code",
   "execution_count": 9,
   "id": "7616c33c-cab2-4e99-84fe-190dc9b32cbc",
   "metadata": {},
   "outputs": [
    {
     "data": {
      "text/plain": [
       "'a'"
      ]
     },
     "execution_count": 9,
     "metadata": {},
     "output_type": "execute_result"
    }
   ],
   "source": [
    "s2[4]"
   ]
  },
  {
   "cell_type": "code",
   "execution_count": 10,
   "id": "85c555a1-58b9-4732-ba4b-213f03220ae7",
   "metadata": {},
   "outputs": [
    {
     "data": {
      "text/plain": [
       "'a'"
      ]
     },
     "execution_count": 10,
     "metadata": {},
     "output_type": "execute_result"
    }
   ],
   "source": [
    "s2[-1]"
   ]
  },
  {
   "cell_type": "code",
   "execution_count": 14,
   "id": "50b79ecd-4f57-4785-99c2-7f4a9be9d039",
   "metadata": {},
   "outputs": [
    {
     "data": {
      "text/plain": [
       "'f'"
      ]
     },
     "execution_count": 14,
     "metadata": {},
     "output_type": "execute_result"
    }
   ],
   "source": [
    "s3[-2]"
   ]
  },
  {
   "cell_type": "code",
   "execution_count": 16,
   "id": "c2d1d0c1-104b-488c-8357-582c3a8cf9f5",
   "metadata": {},
   "outputs": [
    {
     "data": {
      "text/plain": [
       "'\\nMY NAME \\nIS\\nSAURAV\\nKUMAR\\n ARYA\\n'"
      ]
     },
     "execution_count": 16,
     "metadata": {},
     "output_type": "execute_result"
    }
   ],
   "source": [
    "s3.upper()"
   ]
  },
  {
   "cell_type": "code",
   "execution_count": 19,
   "id": "40267299-cd31-44eb-89cc-d29329612d5c",
   "metadata": {},
   "outputs": [
    {
     "data": {
      "text/plain": [
       "'saurav kumar arya'"
      ]
     },
     "execution_count": 19,
     "metadata": {},
     "output_type": "execute_result"
    }
   ],
   "source": [
    "s2.lower()"
   ]
  },
  {
   "cell_type": "code",
   "execution_count": 20,
   "id": "5f6787c9-3131-4313-b978-e612aaf0cfd3",
   "metadata": {},
   "outputs": [
    {
     "data": {
      "text/plain": [
       "'SAURAV KUMAR ARYA'"
      ]
     },
     "execution_count": 20,
     "metadata": {},
     "output_type": "execute_result"
    }
   ],
   "source": [
    "s2.upper()"
   ]
  },
  {
   "cell_type": "code",
   "execution_count": 26,
   "id": "d5a6decc-4de3-4042-b93f-64e4a651304d",
   "metadata": {},
   "outputs": [
    {
     "data": {
      "text/plain": [
       "17"
      ]
     },
     "execution_count": 26,
     "metadata": {},
     "output_type": "execute_result"
    }
   ],
   "source": [
    "len(s2)"
   ]
  },
  {
   "cell_type": "code",
   "execution_count": 27,
   "id": "25c01982-c722-49c3-828c-443ea2d977ef",
   "metadata": {},
   "outputs": [
    {
     "data": {
      "text/plain": [
       "28"
      ]
     },
     "execution_count": 27,
     "metadata": {},
     "output_type": "execute_result"
    }
   ],
   "source": [
    "len(str1)"
   ]
  },
  {
   "cell_type": "code",
   "execution_count": 28,
   "id": "82a190d3-60ca-450c-87b8-07a6572c8684",
   "metadata": {},
   "outputs": [
    {
     "data": {
      "text/plain": [
       "32"
      ]
     },
     "execution_count": 28,
     "metadata": {},
     "output_type": "execute_result"
    }
   ],
   "source": [
    "len(s3)\n"
   ]
  },
  {
   "cell_type": "code",
   "execution_count": 29,
   "id": "1d731528-76dc-4e7d-8534-c5277e6db504",
   "metadata": {},
   "outputs": [
    {
     "data": {
      "text/plain": [
       "'yaurav kumar arya'"
      ]
     },
     "execution_count": 29,
     "metadata": {},
     "output_type": "execute_result"
    }
   ],
   "source": [
    "s2.replace('s','y')"
   ]
  },
  {
   "cell_type": "code",
   "execution_count": 31,
   "id": "6fd2998d-52a7-4481-9dc9-d3263391bb86",
   "metadata": {},
   "outputs": [
    {
     "data": {
      "text/plain": [
       "1"
      ]
     },
     "execution_count": 31,
     "metadata": {},
     "output_type": "execute_result"
    }
   ],
   "source": [
    "s2.count('s')"
   ]
  },
  {
   "cell_type": "code",
   "execution_count": 32,
   "id": "2d5b3ec3-22d6-45f9-8a26-1687bced1f3f",
   "metadata": {},
   "outputs": [
    {
     "data": {
      "text/plain": [
       "0"
      ]
     },
     "execution_count": 32,
     "metadata": {},
     "output_type": "execute_result"
    }
   ],
   "source": [
    "s2.find('s')"
   ]
  },
  {
   "cell_type": "code",
   "execution_count": 33,
   "id": "b0cd09ee-c606-4cc1-bef7-8f9854aebc58",
   "metadata": {},
   "outputs": [
    {
     "data": {
      "text/plain": [
       "10"
      ]
     },
     "execution_count": 33,
     "metadata": {},
     "output_type": "execute_result"
    }
   ],
   "source": [
    "s3.find('is')"
   ]
  },
  {
   "cell_type": "code",
   "execution_count": 34,
   "id": "08594a09-f062-4675-a197-0b8ed5e2c503",
   "metadata": {},
   "outputs": [
    {
     "data": {
      "text/plain": [
       "['my', 'name', 'is', 'saurav', 'kumar', 'arya']"
      ]
     },
     "execution_count": 34,
     "metadata": {},
     "output_type": "execute_result"
    }
   ],
   "source": [
    "s3.split()"
   ]
  },
  {
   "cell_type": "code",
   "execution_count": null,
   "id": "12ec3a64-b2c0-40bd-9e73-c69822641c3d",
   "metadata": {},
   "outputs": [],
   "source": []
  }
 ],
 "metadata": {
  "kernelspec": {
   "display_name": "Python 3 (ipykernel)",
   "language": "python",
   "name": "python3"
  },
  "language_info": {
   "codemirror_mode": {
    "name": "ipython",
    "version": 3
   },
   "file_extension": ".py",
   "mimetype": "text/x-python",
   "name": "python",
   "nbconvert_exporter": "python",
   "pygments_lexer": "ipython3",
   "version": "3.11.7"
  }
 },
 "nbformat": 4,
 "nbformat_minor": 5
}
