{
 "cells": [
  {
   "cell_type": "code",
   "execution_count": null,
   "id": "ef86f6b1-de6e-457a-b9e4-e20c3974bc4d",
   "metadata": {},
   "outputs": [],
   "source": [
    "#list =[mutable]\n",
    "#list is an ordered collection of element wihin().\n"
   ]
  },
  {
   "cell_type": "code",
   "execution_count": 1,
   "id": "93730689-bb17-4ae7-9ed8-5fde36bb6e2f",
   "metadata": {},
   "outputs": [
    {
     "data": {
      "text/plain": [
       "[1, 'saurav', 3.5, True]"
      ]
     },
     "execution_count": 1,
     "metadata": {},
     "output_type": "execute_result"
    }
   ],
   "source": [
    "l1=[1,'saurav',3.5,True]\n",
    "l1"
   ]
  },
  {
   "cell_type": "code",
   "execution_count": 2,
   "id": "d25feaf2-d821-4218-9614-8013857aa37c",
   "metadata": {},
   "outputs": [
    {
     "data": {
      "text/plain": [
       "list"
      ]
     },
     "execution_count": 2,
     "metadata": {},
     "output_type": "execute_result"
    }
   ],
   "source": [
    "type(l1)"
   ]
  },
  {
   "cell_type": "code",
   "execution_count": 3,
   "id": "62d517cd-27b0-47a6-a6ed-7464fad34e78",
   "metadata": {},
   "outputs": [
    {
     "data": {
      "text/plain": [
       "1"
      ]
     },
     "execution_count": 3,
     "metadata": {},
     "output_type": "execute_result"
    }
   ],
   "source": [
    "l1[0]"
   ]
  },
  {
   "cell_type": "code",
   "execution_count": 4,
   "id": "b8e2b7c8-23e7-460e-b416-68b837105b49",
   "metadata": {},
   "outputs": [
    {
     "data": {
      "text/plain": [
       "True"
      ]
     },
     "execution_count": 4,
     "metadata": {},
     "output_type": "execute_result"
    }
   ],
   "source": [
    "l1[3]"
   ]
  },
  {
   "cell_type": "code",
   "execution_count": 5,
   "id": "9824b8a7-883e-4d88-8dfc-fcba386cdb3e",
   "metadata": {},
   "outputs": [
    {
     "data": {
      "text/plain": [
       "True"
      ]
     },
     "execution_count": 5,
     "metadata": {},
     "output_type": "execute_result"
    }
   ],
   "source": [
    "l1[-1]"
   ]
  },
  {
   "cell_type": "code",
   "execution_count": 6,
   "id": "3e415ec3-d129-493f-97c6-0ba0c250bf70",
   "metadata": {},
   "outputs": [
    {
     "data": {
      "text/plain": [
       "3.5"
      ]
     },
     "execution_count": 6,
     "metadata": {},
     "output_type": "execute_result"
    }
   ],
   "source": [
    "l1[-2]"
   ]
  },
  {
   "cell_type": "code",
   "execution_count": 9,
   "id": "7a9e247f-c785-40b0-8f68-391330f62745",
   "metadata": {},
   "outputs": [
    {
     "data": {
      "text/plain": [
       "True"
      ]
     },
     "execution_count": 9,
     "metadata": {},
     "output_type": "execute_result"
    }
   ],
   "source": [
    "l1.pop()"
   ]
  },
  {
   "cell_type": "code",
   "execution_count": 11,
   "id": "c3ee74ec-6f45-4628-9cf0-eefffd0d0b0f",
   "metadata": {},
   "outputs": [
    {
     "data": {
      "text/plain": [
       "[1, 'saurav', 3.5, 'shubham', 'shubham']"
      ]
     },
     "execution_count": 11,
     "metadata": {},
     "output_type": "execute_result"
    }
   ],
   "source": [
    "l1.append(\"shubham\")\n",
    "l1"
   ]
  },
  {
   "cell_type": "code",
   "execution_count": 15,
   "id": "03cf2383-7335-446a-9edd-fcf980882a79",
   "metadata": {},
   "outputs": [
    {
     "data": {
      "text/plain": [
       "[1, 'saurav', 3.5, 'shubham', 'shubham']"
      ]
     },
     "execution_count": 15,
     "metadata": {},
     "output_type": "execute_result"
    }
   ],
   "source": [
    "l1.reverse()\n",
    "l1"
   ]
  },
  {
   "cell_type": "code",
   "execution_count": 16,
   "id": "eb95e689-1145-4683-83f4-3f9a66b77e39",
   "metadata": {},
   "outputs": [
    {
     "data": {
      "text/plain": [
       "['shubham', 'shubham', 3.5, 'saurav', 1]"
      ]
     },
     "execution_count": 16,
     "metadata": {},
     "output_type": "execute_result"
    }
   ],
   "source": [
    "l1.reverse()\n",
    "l1"
   ]
  },
  {
   "cell_type": "code",
   "execution_count": 21,
   "id": "5d53bfce-57d0-469e-8263-47e66edaf236",
   "metadata": {},
   "outputs": [
    {
     "data": {
      "text/plain": [
       "['shubham', 'saurav', 'anshu', 'karmveer']"
      ]
     },
     "execution_count": 21,
     "metadata": {},
     "output_type": "execute_result"
    }
   ],
   "source": [
    "l2=['shubham','saurav','anshu','karmveer']\n",
    "l2"
   ]
  },
  {
   "cell_type": "code",
   "execution_count": 23,
   "id": "2003739e-5e93-4d4b-acba-aa88fdc78087",
   "metadata": {},
   "outputs": [
    {
     "data": {
      "text/plain": [
       "['anshu', 'karmveer', 'saurav', 'shubham']"
      ]
     },
     "execution_count": 23,
     "metadata": {},
     "output_type": "execute_result"
    }
   ],
   "source": [
    "l2.sort()\n",
    "l2"
   ]
  },
  {
   "cell_type": "code",
   "execution_count": 26,
   "id": "49a60821-fae2-4f79-8656-7f2c09b73a7e",
   "metadata": {},
   "outputs": [
    {
     "data": {
      "text/plain": [
       "['paya', 'shubham', 'paya', 'shubham', 3.5, 'saurav', 1]"
      ]
     },
     "execution_count": 26,
     "metadata": {},
     "output_type": "execute_result"
    }
   ],
   "source": [
    "l1.insert(0,\"paya\")\n",
    "l1"
   ]
  },
  {
   "cell_type": "code",
   "execution_count": 28,
   "id": "57269101-6a71-401e-9750-34f4c842590e",
   "metadata": {},
   "outputs": [
    {
     "data": {
      "text/plain": [
       "['paya', 'shubham', 'paya', 'shubham', 3.5, 'saurav', 1]"
      ]
     },
     "execution_count": 28,
     "metadata": {},
     "output_type": "execute_result"
    }
   ],
   "source": [
    "l1*1"
   ]
  },
  {
   "cell_type": "code",
   "execution_count": 29,
   "id": "31b58a7c-d16c-45c6-9634-3dcd5a944738",
   "metadata": {},
   "outputs": [
    {
     "data": {
      "text/plain": [
       "['anshu',\n",
       " 'karmveer',\n",
       " 'saurav',\n",
       " 'shubham',\n",
       " 'anshu',\n",
       " 'karmveer',\n",
       " 'saurav',\n",
       " 'shubham']"
      ]
     },
     "execution_count": 29,
     "metadata": {},
     "output_type": "execute_result"
    }
   ],
   "source": [
    "l2*2"
   ]
  },
  {
   "cell_type": "code",
   "execution_count": 30,
   "id": "23309777-1174-4c02-b864-9cccf7fc3f4d",
   "metadata": {},
   "outputs": [
    {
     "data": {
      "text/plain": [
       "['paya',\n",
       " 'shubham',\n",
       " 'paya',\n",
       " 'shubham',\n",
       " 3.5,\n",
       " 'saurav',\n",
       " 1,\n",
       " 'anshu',\n",
       " 'karmveer',\n",
       " 'saurav',\n",
       " 'shubham']"
      ]
     },
     "execution_count": 30,
     "metadata": {},
     "output_type": "execute_result"
    }
   ],
   "source": [
    "l1+l2"
   ]
  },
  {
   "cell_type": "code",
   "execution_count": null,
   "id": "e832d036-4fb0-436d-8c9e-687cc326235a",
   "metadata": {},
   "outputs": [],
   "source": []
  }
 ],
 "metadata": {
  "kernelspec": {
   "display_name": "Python 3 (ipykernel)",
   "language": "python",
   "name": "python3"
  },
  "language_info": {
   "codemirror_mode": {
    "name": "ipython",
    "version": 3
   },
   "file_extension": ".py",
   "mimetype": "text/x-python",
   "name": "python",
   "nbconvert_exporter": "python",
   "pygments_lexer": "ipython3",
   "version": "3.11.7"
  }
 },
 "nbformat": 4,
 "nbformat_minor": 5
}
